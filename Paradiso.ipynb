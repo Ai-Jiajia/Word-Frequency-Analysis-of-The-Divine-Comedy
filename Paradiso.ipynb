{
 "cells": [
  {
   "cell_type": "code",
   "execution_count": 1,
   "id": "04fc55ae",
   "metadata": {},
   "outputs": [
    {
     "data": {
      "text/plain": [
       "['no longer hindered, you remained below,\\n',\n",
       " 'as if, on earth, a living flame stood still.”\\n',\n",
       " 'Then she again turned her gaze heavenward.\\n',\n",
       " 'CANTO II\\n',\n",
       " 'O you who are within your little bark, \\n',\n",
       " 'eager to listen, following behind\\n',\n",
       " 'my ship that, singing, crosses to deep seas,\\n',\n",
       " 'turn back to see your shores again: do not\\n',\n",
       " 'attempt to sail the seas I sail: you may,\\n',\n",
       " 'by losing sight of me, be left astray.\\n',\n",
       " 'The waves I take were never sailed before;\\n',\n",
       " 'Minerva breathes, Apollo pilots me, \\n',\n",
       " 'and the nine Muses show to me the Bears. \\n',\n",
       " 'You other few who turned your minds in time\\n',\n",
       " 'unto the bread of angels, which provides \\n',\n",
       " 'men here with life but hungering for more \\n',\n",
       " 'you may indeed commit your vessel to\\n',\n",
       " 'the deep salt-sea, keeping your course within\\n',\n",
       " 'my wake, ahead of where waves smooth again.\\n',\n",
       " 'Those men of glory, those who crossed to Colchis, \\n']"
      ]
     },
     "execution_count": 1,
     "metadata": {},
     "output_type": "execute_result"
    }
   ],
   "source": [
    "f=open('./paradiso.txt')\n",
    "texts=f.readlines()\n",
    "f.close()\n",
    "texts[140:160]\n",
    "#texts[170]"
   ]
  },
  {
   "cell_type": "code",
   "execution_count": 2,
   "id": "2835d963",
   "metadata": {},
   "outputs": [],
   "source": [
    "import nltk\n",
    "# nltk.download('averaged_perceptron_tagger')\n",
    "# nltk.download('punkt')\n",
    "# nltk.download('wordnet')\n",
    "# nltk.download('stopwords')"
   ]
  },
  {
   "cell_type": "code",
   "execution_count": 3,
   "id": "1d75a0d9",
   "metadata": {},
   "outputs": [
    {
     "name": "stdout",
     "output_type": "stream",
     "text": [
      "0123456789!\"#$%&'()*+,-./:;<=>?@[\\]^_`{|}~\n",
      "“’”\n"
     ]
    },
    {
     "data": {
      "text/plain": [
       "[['its', 'bent', 'according', 'to', 'a', 'different', 'station'],\n",
       " ['nearer', 'or', 'less', 'near', 'to', 'its', 'origin'],\n",
       " ['therefore', 'these', 'natures', 'move', 'to', 'different', 'ports'],\n",
       " ['across', 'the', 'mighty', 'sea', 'of', 'being', 'each'],\n",
       " ['given', 'the', 'impulse', 'that', 'will', 'bear', 'it', 'on'],\n",
       " ['this', 'impulse', 'carries', 'fire', 'to', 'the', 'moon'],\n",
       " ['this', 'is', 'the', 'motive', 'force', 'in', 'mortal', 'creatures'],\n",
       " ['this', 'binds', 'the', 'earth', 'together', 'makes', 'it', 'one'],\n",
       " ['not', 'only', 'does', 'the', 'shaft', 'shot', 'from', 'this', 'bow'],\n",
       " ['strike', 'creatures', 'lacking', 'intellect', 'but', 'those']]"
      ]
     },
     "execution_count": 3,
     "metadata": {},
     "output_type": "execute_result"
    }
   ],
   "source": [
    "# 删除数字/标点符号，分词\n",
    "import string\n",
    "from nltk import word_tokenize\n",
    "\n",
    "remove_chars = string.digits+string.punctuation +'\\n' + '“' + '’'+'”'\n",
    "remove_map = str.maketrans(remove_chars, \" \" * len(remove_chars))\n",
    "\n",
    "sentences_list = [word_tokenize(t.translate(remove_map).lower()) for t in texts]\n",
    "print(remove_chars)\n",
    "sentences_list[110:120]"
   ]
  },
  {
   "cell_type": "code",
   "execution_count": 4,
   "id": "590238e0",
   "metadata": {},
   "outputs": [
    {
     "name": "stdout",
     "output_type": "stream",
     "text": [
      "14 ['make', 'me', 'the', 'vessel', 'of', 'your', 'excellence']\n",
      "20\n"
     ]
    }
   ],
   "source": [
    "search_word = 'make'\n",
    "for i,s in enumerate(sentences_list):\n",
    "    if search_word in s:\n",
    "        print(i,s)\n",
    "        break\n",
    "count = 0\n",
    "for s in sentences_list:\n",
    "    count += s.count(search_word)\n",
    "print(count)\n",
    "#print(sentences_list[115])"
   ]
  },
  {
   "cell_type": "code",
   "execution_count": 5,
   "id": "2ff89bae",
   "metadata": {},
   "outputs": [
    {
     "name": "stdout",
     "output_type": "stream",
     "text": [
      "{'down', 'if', 'to', 'from', 'their', 'too', \"she's\", 'wouldn', 'mightn', \"mustn't\", 'ours', 'through', 'these', 'do', 'above', 'each', 'hers', \"that'll\", 'being', 'again', 'yourself', 'one', 'all', 's', 'll', 'out', 'so', 'our', 'isn', 'himself', 'into', 'once', 'nor', 'should', \"you've\", 'not', \"it's\", 'can', \"you'll\", \"weren't\", 'hasn', 'for', \"haven't\", 'shan', 'is', 'no', 'am', 'then', 'them', 'with', 'own', 'here', 'upon', 't', 'only', 'the', 'because', 'itself', 'doesn', 'mustn', 'an', \"shouldn't\", 'those', 'why', \"hadn't\", 'how', 'couldn', 'ma', 'me', 'where', \"won't\", 'than', 'at', 'most', 'but', 'against', 'further', 'aren', 'just', 'they', 'some', 'it', \"you'd\", 'during', 'both', 'didn', 'weren', \"should've\", 'haven', 'does', 'by', 'been', \"don't\", 'her', 'be', 'while', 'on', 'about', 'will', 'had', \"aren't\", \"hasn't\", 'myself', 'm', 'when', 'ourselves', \"shan't\", 'y', 'o', 'ain', 'won', \"isn't\", 'shouldn', 'under', 'don', 'its', 'such', 'as', 'below', \"doesn't\", \"you're\", 'that', 'his', 'or', 'having', 'my', 'him', 'of', 'over', 'same', 'who', 'and', 'other', 'after', 'needn', 'are', \"couldn't\", 'hadn', 'few', 'themselves', 'until', 'have', 're', 'whom', 'before', 'you', 'there', 'off', 'she', 'yourselves', 'doing', 'very', 'were', 'your', 'this', 'has', \"wouldn't\", 'between', \"mightn't\", 'd', 'any', 'wasn', 'now', 'i', \"wasn't\", 'a', 'did', \"needn't\", 'what', 'in', 'more', 've', 'which', 'was', 'herself', 'yours', \"didn't\", 'up', 'we', 'theirs', 'he'}\n"
     ]
    },
    {
     "data": {
      "text/plain": [
       "[['bent', 'according', 'different', 'station'],\n",
       " ['nearer', 'less', 'near', 'origin'],\n",
       " ['therefore', 'natures', 'move', 'different', 'ports'],\n",
       " ['across', 'mighty', 'sea'],\n",
       " ['given', 'impulse', 'bear'],\n",
       " ['impulse', 'carries', 'fire', 'moon'],\n",
       " ['motive', 'force', 'mortal', 'creatures'],\n",
       " ['binds', 'earth', 'together', 'makes'],\n",
       " ['shaft', 'shot', 'bow'],\n",
       " ['strike', 'creatures', 'lacking', 'intellect']]"
      ]
     },
     "execution_count": 5,
     "metadata": {},
     "output_type": "execute_result"
    }
   ],
   "source": [
    "# delete the stopwords\n",
    "from nltk.corpus import stopwords\n",
    "stopWords = set(stopwords.words('english'))\n",
    "stopWords |= {'one','upon'}\n",
    "#stopWords -|= {'one'}\n",
    "print(stopWords)\n",
    "\n",
    "sentences_without_sw = [[w for w in s if w not in stopWords] for s in sentences_list]\n",
    "sentences_without_sw[110:120]"
   ]
  },
  {
   "cell_type": "code",
   "execution_count": 6,
   "id": "6ac5eea7",
   "metadata": {},
   "outputs": [
    {
     "name": "stdout",
     "output_type": "stream",
     "text": [
      "0\n"
     ]
    }
   ],
   "source": [
    "search_word = '”'\n",
    "for i,s in enumerate(sentences_without_sw):\n",
    "    if search_word in s:\n",
    "        print(i,s)\n",
    "        break\n",
    "count = 0\n",
    "for s in sentences_without_sw:\n",
    "    count += s.count(search_word)\n",
    "print(count)"
   ]
  },
  {
   "cell_type": "code",
   "execution_count": 7,
   "id": "ec2337ab",
   "metadata": {},
   "outputs": [
    {
     "data": {
      "text/plain": [
       "[[('bent', 'NN'),\n",
       "  ('according', 'VBG'),\n",
       "  ('different', 'JJ'),\n",
       "  ('station', 'NN')],\n",
       " [('nearer', 'RB'), ('less', 'RBR'), ('near', 'IN'), ('origin', 'NN')],\n",
       " [('therefore', 'RB'),\n",
       "  ('natures', 'NNS'),\n",
       "  ('move', 'VBP'),\n",
       "  ('different', 'JJ'),\n",
       "  ('ports', 'NNS')],\n",
       " [('across', 'IN'), ('mighty', 'NNS'), ('sea', 'NN')],\n",
       " [('given', 'VBN'), ('impulse', 'JJ'), ('bear', 'NN')],\n",
       " [('impulse', 'JJ'), ('carries', 'VBZ'), ('fire', 'NN'), ('moon', 'NN')],\n",
       " [('motive', 'JJ'), ('force', 'NN'), ('mortal', 'NN'), ('creatures', 'NNS')],\n",
       " [('binds', 'NNS'), ('earth', 'VBP'), ('together', 'RB'), ('makes', 'VBZ')],\n",
       " [('shaft', 'NN'), ('shot', 'NN'), ('bow', 'NN')],\n",
       " [('strike', 'NN'),\n",
       "  ('creatures', 'NNS'),\n",
       "  ('lacking', 'VBG'),\n",
       "  ('intellect', 'NN')]]"
      ]
     },
     "execution_count": 7,
     "metadata": {},
     "output_type": "execute_result"
    }
   ],
   "source": [
    "# 标注词形\n",
    "from nltk import pos_tag\n",
    "\n",
    "tagged_sentences = [pos_tag(s) for s in sentences_without_sw]\n",
    "tagged_sentences[110:120]"
   ]
  },
  {
   "cell_type": "code",
   "execution_count": 8,
   "id": "78206be1",
   "metadata": {},
   "outputs": [
    {
     "data": {
      "text/plain": [
       "[['bent', 'accord', 'different', 'station'],\n",
       " ['nearer', 'less', 'near', 'origin'],\n",
       " ['therefore', 'nature', 'move', 'different', 'port'],\n",
       " ['across', 'mighty', 'sea'],\n",
       " ['give', 'impulse', 'bear'],\n",
       " ['impulse', 'carry', 'fire', 'moon'],\n",
       " ['motive', 'force', 'mortal', 'creature'],\n",
       " ['bind', 'earth', 'together', 'make'],\n",
       " ['shaft', 'shot', 'bow'],\n",
       " ['strike', 'creature', 'lack', 'intellect']]"
      ]
     },
     "execution_count": 8,
     "metadata": {},
     "output_type": "execute_result"
    }
   ],
   "source": [
    "# 词形还原\n",
    "from nltk.corpus import wordnet\n",
    "from nltk import WordNetLemmatizer\n",
    "\n",
    "lemmatizer = WordNetLemmatizer()\n",
    "tag_dict = {\"J\": wordnet.ADJ,\n",
    "            \"N\": wordnet.NOUN,\n",
    "            \"V\": wordnet.VERB,\n",
    "            \"R\": wordnet.ADV}\n",
    "lemmatized_sentences = [[\n",
    "        lemmatizer.lemmatize(w[0],tag_dict[w[1][0]]) if tag_dict.get(w[1][0], None) else w[0] for w in s \n",
    "    ] for s in tagged_sentences]\n",
    "lemmatized_sentences[110:120]"
   ]
  },
  {
   "cell_type": "code",
   "execution_count": 9,
   "id": "7ccca8aa",
   "metadata": {},
   "outputs": [
    {
     "name": "stdout",
     "output_type": "stream",
     "text": [
      "0\n"
     ]
    }
   ],
   "source": [
    "search_word = '”'\n",
    "for i,s in enumerate(lemmatized_sentences):\n",
    "    if search_word in s:\n",
    "        print(i,s)\n",
    "        break\n",
    "count = 0\n",
    "for s in lemmatized_sentences:\n",
    "    count += s.count(search_word)\n",
    "print(count)"
   ]
  },
  {
   "cell_type": "code",
   "execution_count": 10,
   "id": "892f52c4",
   "metadata": {},
   "outputs": [
    {
     "name": "stdout",
     "output_type": "stream",
     "text": [
      "woman\n",
      "women\n",
      "men\n"
     ]
    }
   ],
   "source": [
    "# 提取词干 暂时不做\n",
    "from nltk import PorterStemmer\n",
    "stemmer = PorterStemmer()\n",
    "print(lemmatizer.lemmatize('women','n'))\n",
    "print(stemmer.stem('women'))\n",
    "print(lemmatizer.lemmatize('men','n'))"
   ]
  },
  {
   "cell_type": "code",
   "execution_count": 23,
   "id": "1e9420cf",
   "metadata": {},
   "outputs": [],
   "source": [
    "# 词袋\n",
    "# from gensim import corpora\n",
    "# Dictionary = corpora.Dictionary(lemmatized_sentences)\n",
    "# sentence_bows = [Dictionary.doc2bow(s) for s in lemmatized_sentences]\n",
    "# sentence_bows[110:120]"
   ]
  },
  {
   "cell_type": "code",
   "execution_count": 11,
   "id": "3db1fe0c",
   "metadata": {
    "scrolled": true
   },
   "outputs": [
    {
     "name": "stdout",
     "output_type": "stream",
     "text": [
      "17061 17061\n",
      "25\n"
     ]
    }
   ],
   "source": [
    "# inferno_cleaned = \"\"\n",
    "# n_words = 0\n",
    "# for s in lemmatized_sentences:\n",
    "#     inferno_cleaned += ' '.join(s)+' '\n",
    "#     n_words += len(s)\n",
    "    \n",
    "# books = [s.split(' ') for s in theAeneid_cleaned.split('book')[1:]]\n",
    "# theAeneid_cleaned = theAeneid_cleaned.split(' ')\n",
    "\n",
    "# print(n_words, len(theAeneid_cleaned))\n",
    "# len(books)\n",
    "\n",
    "# inferno = \"\"\n",
    "# n_words = 0\n",
    "# for s in lemmatized_sentences:\n",
    "#     inferno += ' '.join(s)+' '\n",
    "#     n_words += len(s)\n",
    "# print(n_words, len(inferno))\n",
    "\n",
    "paradiso = []\n",
    "n_words = 0\n",
    "for s in lemmatized_sentences:\n",
    "    paradiso += s\n",
    "    n_words += len(s)\n",
    "print(n_words, len(paradiso))\n",
    "search_word = 'go'\n",
    "print(paradiso.count(search_word))"
   ]
  },
  {
   "cell_type": "code",
   "execution_count": 12,
   "id": "a0d08fe9",
   "metadata": {},
   "outputs": [
    {
     "name": "stdout",
     "output_type": "stream",
     "text": [
      "0\n"
     ]
    }
   ],
   "source": [
    "search_word = '”'\n",
    "print(paradiso.count(search_word))\n",
    "# inferno[2000:2200]"
   ]
  },
  {
   "cell_type": "code",
   "execution_count": 14,
   "id": "434629d5",
   "metadata": {},
   "outputs": [
    {
     "name": "stdout",
     "output_type": "stream",
     "text": [
      "[('see', 224), ('light', 180), ('love', 134), ('would', 132), ('eye', 120), ('within', 110), ('make', 105), ('saw', 96), ('heaven', 94), ('say', 90), ('god', 85), ('first', 79), ('mind', 72), ('may', 72), ('turn', 71), ('like', 71), ('know', 71), ('even', 71), ('great', 70), ('high', 68), ('thing', 67)]\n"
     ]
    }
   ],
   "source": [
    "# 统计词频\n",
    "from nltk.probability import FreqDist\n",
    "fd = FreqDist(paradiso)\n",
    "print(fd.most_common(21))"
   ]
  },
  {
   "cell_type": "code",
   "execution_count": 27,
   "id": "c5a9c2f3",
   "metadata": {},
   "outputs": [
    {
     "name": "stdout",
     "output_type": "stream",
     "text": [
      "BOOK 1:[('”', 199), ('“', 196), ('’', 137), ('say', 84), ('make', 62), ('us', 53), ('see', 52), ('come', 45), ('upon', 44), ('turn', 36)]\n",
      "BOOK 2:[('’', 232), ('”', 204), ('“', 202), ('see', 101), ('say', 85), ('make', 63), ('us', 50), ('upon', 48), ('saw', 48), ('take', 43)]\n"
     ]
    }
   ],
   "source": [
    "# 分章节词频统计\n",
    "# for i,b in enumerate(books):\n",
    "#     fdist = FreqDist(b)\n",
    "#     tops=fdist.most_common(10)\n",
    "#     print(f\"BOOK {i+1}:{tops}\")"
   ]
  },
  {
   "cell_type": "code",
   "execution_count": 17,
   "id": "6ac7653b",
   "metadata": {},
   "outputs": [
    {
     "data": {
      "text/plain": [
       "Text(0.5, 1.0, 'Top 20 Most Frequent Words in the Paradiso')"
      ]
     },
     "execution_count": 17,
     "metadata": {},
     "output_type": "execute_result"
    },
    {
     "data": {
      "image/png": "[encoded data removed]",
      "text/plain": [
       "<Figure size 1120x560 with 1 Axes>"
      ]
     },
     "metadata": {
      "needs_background": "light"
     },
     "output_type": "display_data"
    }
   ],
   "source": [
    "import numpy as np\n",
    "import matplotlib.pyplot as plt\n",
    "\n",
    "datas = np.array([('see', 320), ('light', 180), ('love', 134), ('would', 132), ('eye', 120), ('within', 110), \n",
    "                  ('make', 105),  ('heaven', 94), ('say', 90), ('god', 85), ('first', 79), ('mind', 72), \n",
    "                  ('may', 72), ('turn', 71), ('like', 71), ('know', 71), ('even', 71), ('great', 70), ('high', 68),\n",
    "                  ('thing', 67)])\n",
    "x, y = datas[:,0], datas[:,1].astype(np.int64)\n",
    "\n",
    "fig, ax = plt.subplots(figsize=(14, 7),dpi=80)\n",
    "plt.ylim(50,350)\n",
    "ax.bar(x=x, height=y, width=0.8,  # 柱子宽度，默认0.8，两根柱子中心的距离默认为1.0\n",
    "    align=\"center\",  # 柱子的对齐方式，'center' or 'edge'\n",
    "    color=\"grey\",  # 柱子颜色\n",
    "   # edgecolor=\"red\",  # 柱子边框的颜色\n",
    "    linewidth=2.0  )\n",
    "ax.set_title(\"Top 20 Most Frequent Words in the Paradiso\", fontsize=18)"
   ]
  },
  {
   "cell_type": "code",
   "execution_count": 75,
   "id": "c09f87f9",
   "metadata": {},
   "outputs": [
    {
     "data": {
      "text/plain": [
       "Text(0.5, 1.0, 'Top 10 Most Frequent Words in Book IV')"
      ]
     },
     "execution_count": 75,
     "metadata": {},
     "output_type": "execute_result"
    },
    {
     "data": {
      "image/png": "[encoded data removed]",
      "text/plain": [
       "<Figure size 800x400 with 1 Axes>"
      ]
     },
     "metadata": {
      "needs_background": "light"
     },
     "output_type": "display_data"
    }
   ],
   "source": [
    "import numpy as np\n",
    "import matplotlib.pyplot as plt\n",
    "\n",
    "datas = np.array([('come', 28), ('take', 27), ('go', 26), ('God', 23), ('Dido', 22), \n",
    "                  ('give', 20), ('love', 20), ('way', 20), ('sister', 19), ('away', 18)])\n",
    "x, y = datas[:,0], datas[:,1].astype(np.int64)\n",
    "\n",
    "fig, ax = plt.subplots(figsize=(10, 5),dpi=80)\n",
    "plt.ylim(14,30)\n",
    "ax.bar(x=x, height=y, width=0.6,  # 柱子宽度，默认0.8，两根柱子中心的距离默认为1.0\n",
    "    align=\"center\",  # 柱子的对齐方式，'center' or 'edge'\n",
    "    color=\"grey\",  # 柱子颜色\n",
    "   # edgecolor=\"red\",  # 柱子边框的颜色\n",
    "    linewidth=2.0  )\n",
    "ax.set_title(\"Top 10 Most Frequent Words in Book IV\", fontsize=15)"
   ]
  },
  {
   "cell_type": "code",
   "execution_count": 77,
   "id": "ab5b1720",
   "metadata": {},
   "outputs": [
    {
     "data": {
      "text/plain": [
       "Text(0.5, 1.0, 'Top 10 Most Frequent Words in Book XII')"
      ]
     },
     "execution_count": 77,
     "metadata": {},
     "output_type": "execute_result"
    },
    {
     "data": {
      "image/png": "[encoded data removed]",
      "text/plain": [
       "<Figure size 800x400 with 1 Axes>"
      ]
     },
     "metadata": {
      "needs_background": "light"
     },
     "output_type": "display_data"
    }
   ],
   "source": [
    "import numpy as np\n",
    "import matplotlib.pyplot as plt\n",
    "\n",
    "datas = np.array([('Turnus', 65), ('Aeneas', 44), ('hand', 41), ('come', 39), ('go', 29), \n",
    "                  ('let', 28), ('make', 28), ('spear', 28), ('men', 26), ('Trojan', 26)])\n",
    "x, y = datas[:,0], datas[:,1].astype(np.int64)\n",
    "\n",
    "fig, ax = plt.subplots(figsize=(10, 5),dpi=80)\n",
    "plt.ylim(20,70)\n",
    "ax.bar(x=x, height=y, width=0.6,  # 柱子宽度，默认0.8，两根柱子中心的距离默认为1.0\n",
    "    align=\"center\",  # 柱子的对齐方式，'center' or 'edge'\n",
    "    color=\"grey\",  # 柱子颜色\n",
    "   # edgecolor=\"red\",  # 柱子边框的颜色\n",
    "    linewidth=2.0  )\n",
    "ax.set_title(\"Top 10 Most Frequent Words in Book XII\", fontsize=15)"
   ]
  },
  {
   "cell_type": "code",
   "execution_count": 22,
   "id": "4c07f877",
   "metadata": {},
   "outputs": [
    {
     "data": {
      "text/plain": [
       "Text(0.5, 1.0, 'Top 20 Most Frequent Words in the Aeneid')"
      ]
     },
     "execution_count": 22,
     "metadata": {},
     "output_type": "execute_result"
    },
    {
     "data": {
      "image/png": "[encoded data removed]",
      "text/plain": [
       "<Figure size 864x432 with 1 Axes>"
      ]
     },
     "metadata": {
      "needs_background": "light"
     },
     "output_type": "display_data"
    }
   ],
   "source": [
    "import numpy as np\n",
    "import matplotlib.pyplot as plt\n",
    "x = [\"come\", \"take\", \"make\", \"Aeneas\", \"go\", \"men\", \"God\", \"great\",\"hand\", \"give\", \"father\", \"sea\", \"man\", \"see\", \"Trojan\", \"war\",\"call\",\"say\",\"arm\",\"high\"]\n",
    "y = [430, 364, 316, 297, 283, 280, 262, 262, 255, 249, 241, 237, 222, 207, 199, 196, 195, 194, 193,189]\n",
    "\n",
    "# 柱状图和散点图不同，散点图的(x,y)均为数值变量\n",
    "# 柱状图的x轴显示分类变量，有两种处理方式\n",
    "# 方式1：自己创建x轴坐标，并提供对应的标签\n",
    "# 方式2：让Matplotlib自动完成映射\n",
    "\n",
    "# 方式1\n",
    "# xticks = np.arange(len(x))  # 每根柱子的x轴坐标\n",
    "# xlabels = x  # 每根柱子的标签\n",
    "# fig, ax = plt.subplots(figsize=(10, 7))\n",
    "# ax.bar(x=xticks, height=y, tick_label=xlabels)\n",
    "\n",
    "# 方式2（推荐）\n",
    "fig, ax = plt.subplots(figsize=(12, 6))\n",
    "ax.bar(x=x, height=y, width=0.8,  # 柱子宽度，默认0.8，两根柱子中心的距离默认为1.0\n",
    "    align=\"center\",  # 柱子的对齐方式，'center' or 'edge'\n",
    "    color=\"grey\",  # 柱子颜色\n",
    "   # edgecolor=\"red\",  # 柱子边框的颜色\n",
    "    linewidth=2.0  )\n",
    "ax.set_title(\"Top 20 Most Frequent Words in the Aeneid\", fontsize=15)"
   ]
  },
  {
   "cell_type": "code",
   "execution_count": 18,
   "id": "ac7de65f",
   "metadata": {},
   "outputs": [
    {
     "data": {
      "text/plain": [
       "Text(0.5, 1.0, 'Top 10 Most Frequent Words in Book XII')"
      ]
     },
     "execution_count": 18,
     "metadata": {},
     "output_type": "execute_result"
    },
    {
     "data": {
      "image/png": "[encoded data removed]",
      "text/plain": [
       "<Figure size 576x288 with 1 Axes>"
      ]
     },
     "metadata": {
      "needs_background": "light"
     },
     "output_type": "display_data"
    }
   ],
   "source": [
    "import numpy as np\n",
    "import matplotlib.pyplot as plt\n",
    "x = [\"Turnus\", \"Aeneas\", \"hand\", \"come\", \"go\", \"let\", \"make\", \"spear\", \"men\", \"Trojan\"]\n",
    "y = [28, 27, 26, 23, 22, 20, 20, 20, 19, 18]\n",
    "\n",
    "# 柱状图和散点图不同，散点图的(x,y)均为数值变量\n",
    "# 柱状图的x轴显示分类变量，有两种处理方式\n",
    "# 方式1：自己创建x轴坐标，并提供对应的标签\n",
    "# 方式2：让Matplotlib自动完成映射\n",
    "\n",
    "# 方式1\n",
    "# xticks = np.arange(len(x))  # 每根柱子的x轴坐标\n",
    "# xlabels = x  # 每根柱子的标签\n",
    "# fig, ax = plt.subplots(figsize=(8, 7))\n",
    "# ax.bar(x=xticks, height=y, tick_label=xlabels)\n",
    "\n",
    "# 方式2（推荐）\n",
    "fig, ax = plt.subplots(figsize=(8, 4))\n",
    "ax.bar(x=x, height=y, width=0.6,  # 柱子宽度，默认0.8，两根柱子中心的距离默认为1.0\n",
    "    align=\"center\",  # 柱子的对齐方式，'center' or 'edge'\n",
    "    color=\"grey\",  # 柱子颜色\n",
    "    #edgecolor=\"red\",  # 柱子边框的颜色\n",
    "    linewidth=2.0  )\n"
   ]
  },
  {
   "cell_type": "code",
   "execution_count": null,
   "id": "96a7b619",
   "metadata": {},
   "outputs": [],
   "source": []
  }
 ],
 "metadata": {
  "kernelspec": {
   "display_name": "Python 3",
   "language": "python",
   "name": "python3"
  },
  "language_info": {
   "codemirror_mode": {
    "name": "ipython",
    "version": 3
   },
   "file_extension": ".py",
   "mimetype": "text/x-python",
   "name": "python",
   "nbconvert_exporter": "python",
   "pygments_lexer": "ipython3",
   "version": "3.8.8"
  }
 },
 "nbformat": 4,
 "nbformat_minor": 5
}
