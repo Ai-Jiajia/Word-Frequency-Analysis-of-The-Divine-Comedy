{
 "cells": [
  {
   "cell_type": "code",
   "execution_count": 84,
   "id": "04fc55ae",
   "metadata": {},
   "outputs": [
    {
     "data": {
      "text/plain": [
       "['from work and weariness; and I myself\\n',\n",
       " 'alone prepared to undergo the battle\\n',\n",
       " 'both of the journeying and of the pity,\\n',\n",
       " 'which memory, mistaking not, shall show.\\n',\n",
       " 'O Muses, o high genius, help me now; \\n',\n",
       " 'o memory that set down what I saw,\\n',\n",
       " 'here shall your excellence reveal itself!\\n',\n",
       " 'I started: “Poet, you who are my guide,\\n',\n",
       " 'see if the force in me is strong enough\\n',\n",
       " 'before you let me face that rugged pass.\\n',\n",
       " 'You say that he who fathered Sylvius, \\n',\n",
       " 'while he was still corruptible, had journeyed\\n',\n",
       " 'into the deathless world with his live body.\\n',\n",
       " 'For, if the Enemy of every evil\\n',\n",
       " 'was courteous to him, considering\\n',\n",
       " 'all he would cause and who and what he was,\\n',\n",
       " 'that does not seem incomprehensible,\\n',\n",
       " 'since in the empyrean heaven he was chosen\\n',\n",
       " 'to father honored Rome and her empire;\\n',\n",
       " 'and if the truth be told, Rome and her realm\\n']"
      ]
     },
     "execution_count": 84,
     "metadata": {},
     "output_type": "execute_result"
    }
   ],
   "source": [
    "f=open('./inferno.txt')\n",
    "texts=f.readlines()\n",
    "f.close()\n",
    "texts[140:160]\n",
    "#texts[170]"
   ]
  },
  {
   "cell_type": "code",
   "execution_count": 85,
   "id": "2835d963",
   "metadata": {},
   "outputs": [],
   "source": [
    "import nltk\n",
    "# nltk.download('averaged_perceptron_tagger')\n",
    "# nltk.download('punkt')\n",
    "# nltk.download('wordnet')\n",
    "# nltk.download('stopwords')"
   ]
  },
  {
   "cell_type": "code",
   "execution_count": 86,
   "id": "1d75a0d9",
   "metadata": {},
   "outputs": [
    {
     "name": "stdout",
     "output_type": "stream",
     "text": [
      "0123456789!\"#$%&'()*+,-./:;<=>?@[\\]^_`{|}~\n",
      "“’”\n"
     ]
    },
    {
     "data": {
      "text/plain": [
       "[['until', 'he', 'thrusts', 'her', 'back', 'again', 'to', 'hell'],\n",
       " ['from', 'which', 'she', 'was', 'first', 'sent', 'above', 'by', 'envy'],\n",
       " ['therefore', 'i', 'think', 'and', 'judge', 'it', 'best', 'for', 'you'],\n",
       " ['to', 'follow', 'me', 'and', 'i', 'shall', 'guide', 'you', 'taking'],\n",
       " ['you', 'from', 'this', 'place', 'through', 'an', 'eternal', 'place'],\n",
       " ['where', 'you', 'shall', 'hear', 'the', 'howls', 'of', 'desperation'],\n",
       " ['and', 'see', 'the', 'ancient', 'spirits', 'in', 'their', 'pain'],\n",
       " ['as', 'each', 'of', 'them', 'laments', 'his', 'second', 'death'],\n",
       " ['and', 'you', 'shall', 'see', 'those', 'souls', 'who', 'are', 'content'],\n",
       " ['within', 'the', 'fire', 'for', 'they', 'hope', 'to', 'reach']]"
      ]
     },
     "execution_count": 86,
     "metadata": {},
     "output_type": "execute_result"
    }
   ],
   "source": [
    "# 删除数字/标点符号，分词\n",
    "import string\n",
    "from nltk import word_tokenize\n",
    "\n",
    "remove_chars = string.digits+string.punctuation +'\\n' + '“' + '’'+'”'\n",
    "remove_map = str.maketrans(remove_chars, \" \" * len(remove_chars))\n",
    "\n",
    "sentences_list = [word_tokenize(t.translate(remove_map).lower()) for t in texts]\n",
    "print(remove_chars)\n",
    "sentences_list[110:120]"
   ]
  },
  {
   "cell_type": "code",
   "execution_count": 113,
   "id": "590238e0",
   "metadata": {},
   "outputs": [
    {
     "name": "stdout",
     "output_type": "stream",
     "text": [
      "48 ['this', 'lion', 'seemed', 'to', 'make', 'his', 'way', 'against', 'me']\n",
      "37\n"
     ]
    }
   ],
   "source": [
    "search_word = 'make'\n",
    "for i,s in enumerate(sentences_list):\n",
    "    if search_word in s:\n",
    "        print(i,s)\n",
    "        break\n",
    "count = 0\n",
    "for s in sentences_list:\n",
    "    count += s.count(search_word)\n",
    "print(count)\n",
    "#print(sentences_list[115])"
   ]
  },
  {
   "cell_type": "code",
   "execution_count": 98,
   "id": "2ff89bae",
   "metadata": {},
   "outputs": [
    {
     "name": "stdout",
     "output_type": "stream",
     "text": [
      "{'you', 'of', \"couldn't\", 'only', 'haven', 'such', 'm', 'same', 'nor', 'as', \"doesn't\", 'shouldn', 'at', 'how', 'then', 'will', 'don', 'very', 'ain', 'each', 'yourself', 'd', 'there', 'her', 'during', \"it's\", 'them', 'being', 'is', 'while', 'mustn', \"wasn't\", 'won', 'his', 're', 's', 'yourselves', 'i', 'hadn', 'have', 'or', 'until', 'just', \"wouldn't\", 'am', 'does', 'what', \"won't\", 'were', 'should', 'myself', 'doesn', 'again', 'my', 'who', 'be', 'by', \"isn't\", 'hers', 'once', 'one', 'most', 'doing', 'your', 'than', \"she's\", 'its', 'wouldn', 'against', \"hadn't\", 'ourselves', 'hasn', 'from', \"needn't\", \"shan't\", 'a', 'and', 'here', 'themselves', 'before', 'couldn', 'him', 'when', 'whom', 'we', 'now', 'they', \"hasn't\", 'few', 'been', \"mightn't\", 'if', 't', 'through', 'any', 'it', 'in', 'where', 'not', 'with', \"you're\", \"that'll\", 'll', \"you'd\", \"aren't\", 'she', 'was', 'ma', \"you'll\", 'so', 'can', 'on', 'after', 'theirs', \"didn't\", 'shan', 'below', 'mightn', 'under', 'about', 'an', 'needn', 'yours', 'own', 'this', 've', 'up', 'o', 'because', 'why', 'but', 'more', 'too', \"haven't\", 'these', 'me', 'those', \"should've\", 'between', 'do', \"weren't\", 'further', 'for', 'no', 'had', 'did', 'wasn', 'the', 'to', 'are', 'down', 'both', \"you've\", 'aren', 'into', 'didn', \"shouldn't\", \"mustn't\", 'he', 'that', 'which', 'has', 'above', 'over', 'other', 'itself', 'off', 'having', 'isn', 'our', \"don't\", 'weren', 'all', 'their', 'some', 'herself', 'y', 'out', 'himself', 'ours'}\n"
     ]
    },
    {
     "data": {
      "text/plain": [
       "[['thrusts', 'back', 'hell'],\n",
       " ['first', 'sent', 'envy'],\n",
       " ['therefore', 'think', 'judge', 'best'],\n",
       " ['follow', 'shall', 'guide', 'taking'],\n",
       " ['place', 'eternal', 'place'],\n",
       " ['shall', 'hear', 'howls', 'desperation'],\n",
       " ['see', 'ancient', 'spirits', 'pain'],\n",
       " ['laments', 'second', 'death'],\n",
       " ['shall', 'see', 'souls', 'content'],\n",
       " ['within', 'fire', 'hope', 'reach']]"
      ]
     },
     "execution_count": 98,
     "metadata": {},
     "output_type": "execute_result"
    }
   ],
   "source": [
    "# delete the stopwords\n",
    "from nltk.corpus import stopwords\n",
    "stopWords = set(stopwords.words('english'))\n",
    "stopWords |= {'one','upon'}\n",
    "#stopWords -|= {'one'}\n",
    "print(stopWords)\n",
    "\n",
    "sentences_without_sw = [[w for w in s if w not in stopWords] for s in sentences_list]\n",
    "sentences_without_sw[110:120]"
   ]
  },
  {
   "cell_type": "code",
   "execution_count": 99,
   "id": "6ac5eea7",
   "metadata": {},
   "outputs": [
    {
     "name": "stdout",
     "output_type": "stream",
     "text": [
      "0\n"
     ]
    }
   ],
   "source": [
    "search_word = '”'\n",
    "for i,s in enumerate(sentences_without_sw):\n",
    "    if search_word in s:\n",
    "        print(i,s)\n",
    "        break\n",
    "count = 0\n",
    "for s in sentences_without_sw:\n",
    "    count += s.count(search_word)\n",
    "print(count)"
   ]
  },
  {
   "cell_type": "code",
   "execution_count": 100,
   "id": "ec2337ab",
   "metadata": {},
   "outputs": [
    {
     "data": {
      "text/plain": [
       "[[('thrusts', 'NNS'), ('back', 'RB'), ('hell', 'VBP')],\n",
       " [('first', 'RB'), ('sent', 'VBN'), ('envy', 'NN')],\n",
       " [('therefore', 'RB'), ('think', 'VBP'), ('judge', 'NN'), ('best', 'JJS')],\n",
       " [('follow', 'VB'), ('shall', 'MD'), ('guide', 'VB'), ('taking', 'VBG')],\n",
       " [('place', 'NN'), ('eternal', 'JJ'), ('place', 'NN')],\n",
       " [('shall', 'MD'), ('hear', 'VB'), ('howls', 'JJ'), ('desperation', 'NN')],\n",
       " [('see', 'VB'), ('ancient', 'JJ'), ('spirits', 'NNS'), ('pain', 'VBP')],\n",
       " [('laments', 'NNS'), ('second', 'JJ'), ('death', 'NN')],\n",
       " [('shall', 'MD'), ('see', 'VB'), ('souls', 'JJ'), ('content', 'NN')],\n",
       " [('within', 'IN'), ('fire', 'NNS'), ('hope', 'VBP'), ('reach', 'NN')]]"
      ]
     },
     "execution_count": 100,
     "metadata": {},
     "output_type": "execute_result"
    }
   ],
   "source": [
    "# 标注词形\n",
    "from nltk import pos_tag\n",
    "\n",
    "tagged_sentences = [pos_tag(s) for s in sentences_without_sw]\n",
    "tagged_sentences[110:120]"
   ]
  },
  {
   "cell_type": "code",
   "execution_count": 101,
   "id": "78206be1",
   "metadata": {},
   "outputs": [
    {
     "data": {
      "text/plain": [
       "[['thrust', 'back', 'hell'],\n",
       " ['first', 'send', 'envy'],\n",
       " ['therefore', 'think', 'judge', 'best'],\n",
       " ['follow', 'shall', 'guide', 'take'],\n",
       " ['place', 'eternal', 'place'],\n",
       " ['shall', 'hear', 'howls', 'desperation'],\n",
       " ['see', 'ancient', 'spirit', 'pain'],\n",
       " ['lament', 'second', 'death'],\n",
       " ['shall', 'see', 'souls', 'content'],\n",
       " ['within', 'fire', 'hope', 'reach']]"
      ]
     },
     "execution_count": 101,
     "metadata": {},
     "output_type": "execute_result"
    }
   ],
   "source": [
    "# 词形还原\n",
    "from nltk.corpus import wordnet\n",
    "from nltk import WordNetLemmatizer\n",
    "\n",
    "lemmatizer = WordNetLemmatizer()\n",
    "tag_dict = {\"J\": wordnet.ADJ,\n",
    "            \"N\": wordnet.NOUN,\n",
    "            \"V\": wordnet.VERB,\n",
    "            \"R\": wordnet.ADV}\n",
    "lemmatized_sentences = [[\n",
    "        lemmatizer.lemmatize(w[0],tag_dict[w[1][0]]) if tag_dict.get(w[1][0], None) else w[0] for w in s \n",
    "    ] for s in tagged_sentences]\n",
    "lemmatized_sentences[110:120]"
   ]
  },
  {
   "cell_type": "code",
   "execution_count": 102,
   "id": "7ccca8aa",
   "metadata": {},
   "outputs": [
    {
     "name": "stdout",
     "output_type": "stream",
     "text": [
      "0\n"
     ]
    }
   ],
   "source": [
    "search_word = '”'\n",
    "for i,s in enumerate(lemmatized_sentences):\n",
    "    if search_word in s:\n",
    "        print(i,s)\n",
    "        break\n",
    "count = 0\n",
    "for s in lemmatized_sentences:\n",
    "    count += s.count(search_word)\n",
    "print(count)"
   ]
  },
  {
   "cell_type": "code",
   "execution_count": 81,
   "id": "892f52c4",
   "metadata": {},
   "outputs": [
    {
     "name": "stdout",
     "output_type": "stream",
     "text": [
      "woman\n",
      "women\n",
      "men\n"
     ]
    }
   ],
   "source": [
    "# 提取词干 暂时不做\n",
    "from nltk import PorterStemmer\n",
    "stemmer = PorterStemmer()\n",
    "print(lemmatizer.lemmatize('women','n'))\n",
    "print(stemmer.stem('women'))\n",
    "print(lemmatizer.lemmatize('men','n'))"
   ]
  },
  {
   "cell_type": "code",
   "execution_count": 23,
   "id": "1e9420cf",
   "metadata": {},
   "outputs": [],
   "source": [
    "# 词袋\n",
    "# from gensim import corpora\n",
    "# Dictionary = corpora.Dictionary(lemmatized_sentences)\n",
    "# sentence_bows = [Dictionary.doc2bow(s) for s in lemmatized_sentences]\n",
    "# sentence_bows[110:120]"
   ]
  },
  {
   "cell_type": "code",
   "execution_count": 103,
   "id": "3db1fe0c",
   "metadata": {
    "scrolled": true
   },
   "outputs": [
    {
     "name": "stdout",
     "output_type": "stream",
     "text": [
      "17000 17000\n",
      "67\n"
     ]
    }
   ],
   "source": [
    "# inferno_cleaned = \"\"\n",
    "# n_words = 0\n",
    "# for s in lemmatized_sentences:\n",
    "#     inferno_cleaned += ' '.join(s)+' '\n",
    "#     n_words += len(s)\n",
    "    \n",
    "# books = [s.split(' ') for s in theAeneid_cleaned.split('book')[1:]]\n",
    "# theAeneid_cleaned = theAeneid_cleaned.split(' ')\n",
    "\n",
    "# print(n_words, len(theAeneid_cleaned))\n",
    "# len(books)\n",
    "\n",
    "# inferno = \"\"\n",
    "# n_words = 0\n",
    "# for s in lemmatized_sentences:\n",
    "#     inferno += ' '.join(s)+' '\n",
    "#     n_words += len(s)\n",
    "# print(n_words, len(inferno))\n",
    "\n",
    "inferno = []\n",
    "n_words = 0\n",
    "for s in lemmatized_sentences:\n",
    "    inferno += s\n",
    "    n_words += len(s)\n",
    "print(n_words, len(inferno))\n",
    "search_word = 'go'\n",
    "print(inferno.count(search_word))"
   ]
  },
  {
   "cell_type": "code",
   "execution_count": 107,
   "id": "a0d08fe9",
   "metadata": {},
   "outputs": [
    {
     "name": "stdout",
     "output_type": "stream",
     "text": [
      "0\n"
     ]
    }
   ],
   "source": [
    "search_word = '”'\n",
    "print(inferno.count(search_word))\n",
    "# inferno[2000:2200]"
   ]
  },
  {
   "cell_type": "code",
   "execution_count": 115,
   "id": "434629d5",
   "metadata": {},
   "outputs": [
    {
     "name": "stdout",
     "output_type": "stream",
     "text": [
      "[('say', 187), ('see', 177), ('make', 141), ('us', 121), ('upon', 100), ('come', 97), ('saw', 93), ('master', 83), ('turn', 81), ('let', 80), ('take', 80), ('still', 79), ('tell', 78), ('eye', 77), ('way', 76), ('leave', 73), ('guide', 72), ('face', 71), ('word', 71), ('place', 69), ('go', 67), ('like', 66)]\n"
     ]
    }
   ],
   "source": [
    "# 统计词频\n",
    "from nltk.probability import FreqDist\n",
    "fd = FreqDist(inferno)\n",
    "print(fd.most_common(22))"
   ]
  },
  {
   "cell_type": "code",
   "execution_count": 27,
   "id": "c5a9c2f3",
   "metadata": {},
   "outputs": [
    {
     "name": "stdout",
     "output_type": "stream",
     "text": [
      "BOOK 1:[('”', 199), ('“', 196), ('’', 137), ('say', 84), ('make', 62), ('us', 53), ('see', 52), ('come', 45), ('upon', 44), ('turn', 36)]\n",
      "BOOK 2:[('’', 232), ('”', 204), ('“', 202), ('see', 101), ('say', 85), ('make', 63), ('us', 50), ('upon', 48), ('saw', 48), ('take', 43)]\n"
     ]
    }
   ],
   "source": [
    "# 分章节词频统计\n",
    "# for i,b in enumerate(books):\n",
    "#     fdist = FreqDist(b)\n",
    "#     tops=fdist.most_common(10)\n",
    "#     print(f\"BOOK {i+1}:{tops}\")"
   ]
  },
  {
   "cell_type": "code",
   "execution_count": 119,
   "id": "6ac7653b",
   "metadata": {},
   "outputs": [
    {
     "data": {
      "text/plain": [
       "Text(0.5, 1.0, 'Top 20 Most Frequent Words in the Inferno')"
      ]
     },
     "execution_count": 119,
     "metadata": {},
     "output_type": "execute_result"
    },
    {
     "data": {
      "image/png": "[encoded data removed]",
      "text/plain": [
       "<Figure size 1120x560 with 1 Axes>"
      ]
     },
     "metadata": {
      "needs_background": "light"
     },
     "output_type": "display_data"
    }
   ],
   "source": [
    "import numpy as np\n",
    "import matplotlib.pyplot as plt\n",
    "\n",
    "datas = np.array([('see', 270),('say', 187),  ('make', 141), ('us', 121), ('come', 97), ('master', 83), ('turn', 81),\n",
    "                  ('let', 80), ('take', 80), ('still', 79), ('tell', 78), ('eye', 77), ('way', 76),\n",
    "                  ('leave', 73), ('guide', 72), ('face', 71), ('word', 71), ('place', 69), ('go', 67), ('like', 66)])\n",
    "x, y = datas[:,0], datas[:,1].astype(np.int64)\n",
    "\n",
    "fig, ax = plt.subplots(figsize=(14, 7),dpi=80)\n",
    "plt.ylim(50,300)\n",
    "ax.bar(x=x, height=y, width=0.8,  # 柱子宽度，默认0.8，两根柱子中心的距离默认为1.0\n",
    "    align=\"center\",  # 柱子的对齐方式，'center' or 'edge'\n",
    "    color=\"grey\",  # 柱子颜色\n",
    "   # edgecolor=\"red\",  # 柱子边框的颜色\n",
    "    linewidth=2.0  )\n",
    "ax.set_title(\"Top 20 Most Frequent Words in the Inferno\", fontsize=18)"
   ]
  },
  {
   "cell_type": "code",
   "execution_count": 75,
   "id": "c09f87f9",
   "metadata": {},
   "outputs": [
    {
     "data": {
      "text/plain": [
       "Text(0.5, 1.0, 'Top 10 Most Frequent Words in Book IV')"
      ]
     },
     "execution_count": 75,
     "metadata": {},
     "output_type": "execute_result"
    },
    {
     "data": {
      "image/png": "[encoded data removed]",
      "text/plain": [
       "<Figure size 800x400 with 1 Axes>"
      ]
     },
     "metadata": {
      "needs_background": "light"
     },
     "output_type": "display_data"
    }
   ],
   "source": [
    "import numpy as np\n",
    "import matplotlib.pyplot as plt\n",
    "\n",
    "datas = np.array([('come', 28), ('take', 27), ('go', 26), ('God', 23), ('Dido', 22), \n",
    "                  ('give', 20), ('love', 20), ('way', 20), ('sister', 19), ('away', 18)])\n",
    "x, y = datas[:,0], datas[:,1].astype(np.int64)\n",
    "\n",
    "fig, ax = plt.subplots(figsize=(10, 5),dpi=80)\n",
    "plt.ylim(14,30)\n",
    "ax.bar(x=x, height=y, width=0.6,  # 柱子宽度，默认0.8，两根柱子中心的距离默认为1.0\n",
    "    align=\"center\",  # 柱子的对齐方式，'center' or 'edge'\n",
    "    color=\"grey\",  # 柱子颜色\n",
    "   # edgecolor=\"red\",  # 柱子边框的颜色\n",
    "    linewidth=2.0  )\n",
    "ax.set_title(\"Top 10 Most Frequent Words in Book IV\", fontsize=15)"
   ]
  },
  {
   "cell_type": "code",
   "execution_count": 77,
   "id": "ab5b1720",
   "metadata": {},
   "outputs": [
    {
     "data": {
      "text/plain": [
       "Text(0.5, 1.0, 'Top 10 Most Frequent Words in Book XII')"
      ]
     },
     "execution_count": 77,
     "metadata": {},
     "output_type": "execute_result"
    },
    {
     "data": {
      "image/png": "[encoded data removed]",
      "text/plain": [
       "<Figure size 800x400 with 1 Axes>"
      ]
     },
     "metadata": {
      "needs_background": "light"
     },
     "output_type": "display_data"
    }
   ],
   "source": [
    "import numpy as np\n",
    "import matplotlib.pyplot as plt\n",
    "\n",
    "datas = np.array([('Turnus', 65), ('Aeneas', 44), ('hand', 41), ('come', 39), ('go', 29), \n",
    "                  ('let', 28), ('make', 28), ('spear', 28), ('men', 26), ('Trojan', 26)])\n",
    "x, y = datas[:,0], datas[:,1].astype(np.int64)\n",
    "\n",
    "fig, ax = plt.subplots(figsize=(10, 5),dpi=80)\n",
    "plt.ylim(20,70)\n",
    "ax.bar(x=x, height=y, width=0.6,  # 柱子宽度，默认0.8，两根柱子中心的距离默认为1.0\n",
    "    align=\"center\",  # 柱子的对齐方式，'center' or 'edge'\n",
    "    color=\"grey\",  # 柱子颜色\n",
    "   # edgecolor=\"red\",  # 柱子边框的颜色\n",
    "    linewidth=2.0  )\n",
    "ax.set_title(\"Top 10 Most Frequent Words in Book XII\", fontsize=15)"
   ]
  },
  {
   "cell_type": "code",
   "execution_count": 22,
   "id": "4c07f877",
   "metadata": {},
   "outputs": [
    {
     "data": {
      "text/plain": [
       "Text(0.5, 1.0, 'Top 20 Most Frequent Words in the Aeneid')"
      ]
     },
     "execution_count": 22,
     "metadata": {},
     "output_type": "execute_result"
    },
    {
     "data": {
      "image/png": "[encoded data removed]",
      "text/plain": [
       "<Figure size 864x432 with 1 Axes>"
      ]
     },
     "metadata": {
      "needs_background": "light"
     },
     "output_type": "display_data"
    }
   ],
   "source": [
    "import numpy as np\n",
    "import matplotlib.pyplot as plt\n",
    "x = [\"come\", \"take\", \"make\", \"Aeneas\", \"go\", \"men\", \"God\", \"great\",\"hand\", \"give\", \"father\", \"sea\", \"man\", \"see\", \"Trojan\", \"war\",\"call\",\"say\",\"arm\",\"high\"]\n",
    "y = [430, 364, 316, 297, 283, 280, 262, 262, 255, 249, 241, 237, 222, 207, 199, 196, 195, 194, 193,189]\n",
    "\n",
    "# 柱状图和散点图不同，散点图的(x,y)均为数值变量\n",
    "# 柱状图的x轴显示分类变量，有两种处理方式\n",
    "# 方式1：自己创建x轴坐标，并提供对应的标签\n",
    "# 方式2：让Matplotlib自动完成映射\n",
    "\n",
    "# 方式1\n",
    "# xticks = np.arange(len(x))  # 每根柱子的x轴坐标\n",
    "# xlabels = x  # 每根柱子的标签\n",
    "# fig, ax = plt.subplots(figsize=(10, 7))\n",
    "# ax.bar(x=xticks, height=y, tick_label=xlabels)\n",
    "\n",
    "# 方式2（推荐）\n",
    "fig, ax = plt.subplots(figsize=(12, 6))\n",
    "ax.bar(x=x, height=y, width=0.8,  # 柱子宽度，默认0.8，两根柱子中心的距离默认为1.0\n",
    "    align=\"center\",  # 柱子的对齐方式，'center' or 'edge'\n",
    "    color=\"grey\",  # 柱子颜色\n",
    "   # edgecolor=\"red\",  # 柱子边框的颜色\n",
    "    linewidth=2.0  )\n",
    "ax.set_title(\"Top 20 Most Frequent Words in the Aeneid\", fontsize=15)"
   ]
  },
  {
   "cell_type": "code",
   "execution_count": 18,
   "id": "ac7de65f",
   "metadata": {},
   "outputs": [
    {
     "data": {
      "text/plain": [
       "Text(0.5, 1.0, 'Top 10 Most Frequent Words in Book XII')"
      ]
     },
     "execution_count": 18,
     "metadata": {},
     "output_type": "execute_result"
    },
    {
     "data": {
      "image/png": "[encoded data removed]",
      "text/plain": [
       "<Figure size 576x288 with 1 Axes>"
      ]
     },
     "metadata": {
      "needs_background": "light"
     },
     "output_type": "display_data"
    }
   ],
   "source": [
    "import numpy as np\n",
    "import matplotlib.pyplot as plt\n",
    "x = [\"Turnus\", \"Aeneas\", \"hand\", \"come\", \"go\", \"let\", \"make\", \"spear\", \"men\", \"Trojan\"]\n",
    "y = [28, 27, 26, 23, 22, 20, 20, 20, 19, 18]\n",
    "\n",
    "# 柱状图和散点图不同，散点图的(x,y)均为数值变量\n",
    "# 柱状图的x轴显示分类变量，有两种处理方式\n",
    "# 方式1：自己创建x轴坐标，并提供对应的标签\n",
    "# 方式2：让Matplotlib自动完成映射\n",
    "\n",
    "# 方式1\n",
    "# xticks = np.arange(len(x))  # 每根柱子的x轴坐标\n",
    "# xlabels = x  # 每根柱子的标签\n",
    "# fig, ax = plt.subplots(figsize=(8, 7))\n",
    "# ax.bar(x=xticks, height=y, tick_label=xlabels)\n",
    "\n",
    "# 方式2（推荐）\n",
    "fig, ax = plt.subplots(figsize=(8, 4))\n",
    "ax.bar(x=x, height=y, width=0.6,  # 柱子宽度，默认0.8，两根柱子中心的距离默认为1.0\n",
    "    align=\"center\",  # 柱子的对齐方式，'center' or 'edge'\n",
    "    color=\"grey\",  # 柱子颜色\n",
    "    #edgecolor=\"red\",  # 柱子边框的颜色\n",
    "    linewidth=2.0  )\n"
   ]
  },
  {
   "cell_type": "code",
   "execution_count": null,
   "id": "96a7b619",
   "metadata": {},
   "outputs": [],
   "source": []
  }
 ],
 "metadata": {
  "kernelspec": {
   "display_name": "Python 3",
   "language": "python",
   "name": "python3"
  },
  "language_info": {
   "codemirror_mode": {
    "name": "ipython",
    "version": 3
   },
   "file_extension": ".py",
   "mimetype": "text/x-python",
   "name": "python",
   "nbconvert_exporter": "python",
   "pygments_lexer": "ipython3",
   "version": "3.8.8"
  }
 },
 "nbformat": 4,
 "nbformat_minor": 5
}
