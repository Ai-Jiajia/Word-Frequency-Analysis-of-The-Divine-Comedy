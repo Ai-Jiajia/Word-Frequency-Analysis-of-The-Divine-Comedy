{
 "cells": [
  {
   "cell_type": "code",
   "execution_count": 22,
   "id": "04fc55ae",
   "metadata": {},
   "outputs": [
    {
     "data": {
      "text/plain": [
       "['covers Jerusalem; and from the Ganges,\\n',\n",
       " 'night, circling opposite the sun, was moving\\n',\n",
       " 'together with the Scales that, when the length\\n',\n",
       " 'of dark defeats the day, desert night’s hands;\\n',\n",
       " 'so that, above the shore that I had reached,\\n',\n",
       " 'the fair Aurora’s white and scarlet cheeks \\n',\n",
       " 'were, as Aurora aged, becoming orange.\\n',\n",
       " 'We still were by the sea, like those who think\\n',\n",
       " 'about the journey they will undertake,\\n',\n",
       " 'who go in heart but in the body stay.\\n',\n",
       " 'And just as Mars, when it is overcome \\n',\n",
       " 'by the invading mists of dawn, glows red\\n',\n",
       " 'above the waters’ plain, low in the west,\\n',\n",
       " 'so there appeared to me and may I see it\\n',\n",
       " 'again a light that crossed the sea: so swift,\\n',\n",
       " 'there is no flight of bird to equal it.\\n',\n",
       " 'When, for a moment, I’d withdrawn my eyes\\n',\n",
       " 'that I might ask a question of my guide,\\n',\n",
       " 'I saw that light again, larger, more bright.\\n',\n",
       " 'Then, to each side of it, I saw a whiteness,\\n']"
      ]
     },
     "execution_count": 22,
     "metadata": {},
     "output_type": "execute_result"
    }
   ],
   "source": [
    "f=open('./purgatorio.txt')\n",
    "texts=f.readlines()\n",
    "f.close()\n",
    "texts[140:160]\n",
    "#texts[170]"
   ]
  },
  {
   "cell_type": "code",
   "execution_count": 23,
   "id": "2835d963",
   "metadata": {},
   "outputs": [],
   "source": [
    "import nltk\n",
    "# nltk.download('averaged_perceptron_tagger')\n",
    "# nltk.download('punkt')\n",
    "# nltk.download('wordnet')\n",
    "# nltk.download('stopwords')"
   ]
  },
  {
   "cell_type": "code",
   "execution_count": 24,
   "id": "1d75a0d9",
   "metadata": {},
   "outputs": [
    {
     "name": "stdout",
     "output_type": "stream",
     "text": [
      "0123456789!\"#$%&'()*+,-./:;<=>?@[\\]^_`{|}~\n",
      "“’”\n"
     ]
    },
    {
     "data": {
      "text/plain": [
       "[['i', 'rose', 'and', 'drew', 'in', 'closer', 'to', 'my', 'guide'],\n",
       " ['and', 'it', 'was', 'on', 'him', 'that', 'i', 'set', 'my', 'eyes'],\n",
       " ['and', 'he', 'began', 'son', 'follow', 'in', 'my', 'steps'],\n",
       " ['let', 'us', 'go', 'back', 'this', 'is', 'the', 'point', 'at', 'which'],\n",
       " ['the', 'plain', 'slopes', 'down', 'to', 'reach', 'its', 'lowest', 'bounds'],\n",
       " ['daybreak', 'was', 'vanquishing', 'the', 'dark', 's', 'last', 'hour'],\n",
       " ['which', 'fled', 'before', 'it', 'in', 'the', 'distance', 'i'],\n",
       " ['could', 'recognize', 'the', 'trembling', 'of', 'the', 'sea'],\n",
       " ['we', 'made', 'our', 'way', 'across', 'the', 'lonely', 'plain'],\n",
       " ['like', 'one', 'returning', 'to', 'a', 'lost', 'pathway']]"
      ]
     },
     "execution_count": 24,
     "metadata": {},
     "output_type": "execute_result"
    }
   ],
   "source": [
    "# 删除数字/标点符号，分词\n",
    "import string\n",
    "from nltk import word_tokenize\n",
    "\n",
    "remove_chars = string.digits+string.punctuation +'\\n' + '“' + '’'+'”'\n",
    "remove_map = str.maketrans(remove_chars, \" \" * len(remove_chars))\n",
    "\n",
    "sentences_list = [word_tokenize(t.translate(remove_map).lower()) for t in texts]\n",
    "print(remove_chars)\n",
    "sentences_list[110:120]"
   ]
  },
  {
   "cell_type": "code",
   "execution_count": 36,
   "id": "590238e0",
   "metadata": {},
   "outputs": [
    {
     "name": "stdout",
     "output_type": "stream",
     "text": [
      "23 ['upon', 'the', 'other', 'pole', 'and', 'saw', 'four', 'stars']\n",
      "79\n"
     ]
    }
   ],
   "source": [
    "search_word = 'saw'\n",
    "for i,s in enumerate(sentences_list):\n",
    "    if search_word in s:\n",
    "        print(i,s)\n",
    "        break\n",
    "count = 0\n",
    "for s in sentences_list:\n",
    "    count += s.count(search_word)\n",
    "print(count)\n",
    "#print(sentences_list[115])"
   ]
  },
  {
   "cell_type": "code",
   "execution_count": 26,
   "id": "2ff89bae",
   "metadata": {},
   "outputs": [
    {
     "name": "stdout",
     "output_type": "stream",
     "text": [
      "{\"hasn't\", 's', 'his', 'other', 'y', \"you'll\", 'as', 'off', 'no', 'd', 'more', 'yourselves', 'at', 'why', \"didn't\", 'not', \"wouldn't\", 'my', \"hadn't\", 'been', 'where', 'she', 'after', 'most', 'hadn', 'do', \"she's\", \"doesn't\", 'of', 'were', 'won', 'should', 'its', 'o', 'once', 'but', \"weren't\", 'and', 'down', 'very', 've', 'are', 'ourselves', 'on', 'one', 'before', \"needn't\", 'couldn', 'during', 'how', 't', 're', 'those', \"it's\", 'to', 'just', 'hasn', 'if', 'own', 'shouldn', 'each', \"haven't\", \"isn't\", 'same', 'both', 'him', 'hers', 'the', 'isn', 'such', 'wasn', 'this', 'against', 'until', 'will', \"should've\", 'into', 'was', 'in', 'our', 'didn', 'about', 'being', 'did', 'aren', 'yourself', 'yours', 'ain', 'which', 'we', 'who', 'when', 'whom', 'that', \"that'll\", 'these', 'ours', 'they', 'himself', 'herself', 'under', \"aren't\", 'needn', \"you're\", 'ma', 'their', 'can', 'don', 'above', 'up', 'wouldn', 'because', 'what', \"don't\", 'from', 'does', \"won't\", 'while', \"mustn't\", 'nor', 'through', 'only', 'so', 'with', 'a', 'having', 'them', 'your', 'few', 'weren', 'am', 'doesn', 'over', 'further', \"shan't\", 'there', 'below', 'itself', \"shouldn't\", 'upon', 'for', 'me', \"wasn't\", 'it', 'by', 'he', 'between', 'm', 'll', 'here', \"you've\", \"you'd\", 'has', 'themselves', 'than', 'i', 'had', 'mustn', 'an', 'again', 'shan', 'be', \"couldn't\", 'haven', 'her', 'out', 'then', 'or', 'some', \"mightn't\", 'myself', 'have', 'mightn', 'is', 'any', 'all', 'now', 'you', 'doing', 'too', 'theirs'}\n"
     ]
    },
    {
     "data": {
      "text/plain": [
       "[['rose', 'drew', 'closer', 'guide'],\n",
       " ['set', 'eyes'],\n",
       " ['began', 'son', 'follow', 'steps'],\n",
       " ['let', 'us', 'go', 'back', 'point'],\n",
       " ['plain', 'slopes', 'reach', 'lowest', 'bounds'],\n",
       " ['daybreak', 'vanquishing', 'dark', 'last', 'hour'],\n",
       " ['fled', 'distance'],\n",
       " ['could', 'recognize', 'trembling', 'sea'],\n",
       " ['made', 'way', 'across', 'lonely', 'plain'],\n",
       " ['like', 'returning', 'lost', 'pathway']]"
      ]
     },
     "execution_count": 26,
     "metadata": {},
     "output_type": "execute_result"
    }
   ],
   "source": [
    "# delete the stopwords\n",
    "from nltk.corpus import stopwords\n",
    "stopWords = set(stopwords.words('english'))\n",
    "stopWords |= {'one','upon'}\n",
    "#stopWords -|= {'one'}\n",
    "print(stopWords)\n",
    "\n",
    "sentences_without_sw = [[w for w in s if w not in stopWords] for s in sentences_list]\n",
    "sentences_without_sw[110:120]"
   ]
  },
  {
   "cell_type": "code",
   "execution_count": 37,
   "id": "6ac5eea7",
   "metadata": {},
   "outputs": [
    {
     "name": "stdout",
     "output_type": "stream",
     "text": [
      "92 ['helps', 'say', 'need']\n",
      "27\n"
     ]
    }
   ],
   "source": [
    "search_word = 'say'\n",
    "for i,s in enumerate(sentences_without_sw):\n",
    "    if search_word in s:\n",
    "        print(i,s)\n",
    "        break\n",
    "count = 0\n",
    "for s in sentences_without_sw:\n",
    "    count += s.count(search_word)\n",
    "print(count)"
   ]
  },
  {
   "cell_type": "code",
   "execution_count": 28,
   "id": "ec2337ab",
   "metadata": {},
   "outputs": [
    {
     "data": {
      "text/plain": [
       "[[('rose', 'VBD'), ('drew', 'NNS'), ('closer', 'RBR'), ('guide', 'NN')],\n",
       " [('set', 'VBN'), ('eyes', 'NNS')],\n",
       " [('began', 'VBD'), ('son', 'JJ'), ('follow', 'JJ'), ('steps', 'NNS')],\n",
       " [('let', 'VB'), ('us', 'PRP'), ('go', 'VB'), ('back', 'RB'), ('point', 'NN')],\n",
       " [('plain', 'NN'),\n",
       "  ('slopes', 'NNS'),\n",
       "  ('reach', 'VBP'),\n",
       "  ('lowest', 'JJS'),\n",
       "  ('bounds', 'NNS')],\n",
       " [('daybreak', 'NN'),\n",
       "  ('vanquishing', 'VBG'),\n",
       "  ('dark', 'JJ'),\n",
       "  ('last', 'JJ'),\n",
       "  ('hour', 'NN')],\n",
       " [('fled', 'VBN'), ('distance', 'NN')],\n",
       " [('could', 'MD'), ('recognize', 'VB'), ('trembling', 'VBG'), ('sea', 'NN')],\n",
       " [('made', 'VBN'),\n",
       "  ('way', 'NN'),\n",
       "  ('across', 'IN'),\n",
       "  ('lonely', 'RB'),\n",
       "  ('plain', 'NN')],\n",
       " [('like', 'IN'), ('returning', 'VBG'), ('lost', 'VBN'), ('pathway', 'NN')]]"
      ]
     },
     "execution_count": 28,
     "metadata": {},
     "output_type": "execute_result"
    }
   ],
   "source": [
    "# 标注词形\n",
    "from nltk import pos_tag\n",
    "\n",
    "tagged_sentences = [pos_tag(s) for s in sentences_without_sw]\n",
    "tagged_sentences[110:120]"
   ]
  },
  {
   "cell_type": "code",
   "execution_count": 29,
   "id": "78206be1",
   "metadata": {},
   "outputs": [
    {
     "data": {
      "text/plain": [
       "[['rise', 'drew', 'closer', 'guide'],\n",
       " ['set', 'eye'],\n",
       " ['begin', 'son', 'follow', 'step'],\n",
       " ['let', 'us', 'go', 'back', 'point'],\n",
       " ['plain', 'slope', 'reach', 'low', 'bound'],\n",
       " ['daybreak', 'vanquish', 'dark', 'last', 'hour'],\n",
       " ['flee', 'distance'],\n",
       " ['could', 'recognize', 'tremble', 'sea'],\n",
       " ['make', 'way', 'across', 'lonely', 'plain'],\n",
       " ['like', 'return', 'lose', 'pathway']]"
      ]
     },
     "execution_count": 29,
     "metadata": {},
     "output_type": "execute_result"
    }
   ],
   "source": [
    "# 词形还原\n",
    "from nltk.corpus import wordnet\n",
    "from nltk import WordNetLemmatizer\n",
    "\n",
    "lemmatizer = WordNetLemmatizer()\n",
    "tag_dict = {\"J\": wordnet.ADJ,\n",
    "            \"N\": wordnet.NOUN,\n",
    "            \"V\": wordnet.VERB,\n",
    "            \"R\": wordnet.ADV}\n",
    "lemmatized_sentences = [[\n",
    "        lemmatizer.lemmatize(w[0],tag_dict[w[1][0]]) if tag_dict.get(w[1][0], None) else w[0] for w in s \n",
    "    ] for s in tagged_sentences]\n",
    "lemmatized_sentences[110:120]"
   ]
  },
  {
   "cell_type": "code",
   "execution_count": 39,
   "id": "7ccca8aa",
   "metadata": {},
   "outputs": [
    {
     "name": "stdout",
     "output_type": "stream",
     "text": [
      "23 ['pole', 'saw', 'four', 'star']\n",
      "79\n"
     ]
    }
   ],
   "source": [
    "search_word = 'saw'\n",
    "for i,s in enumerate(lemmatized_sentences):\n",
    "    if search_word in s:\n",
    "        print(i,s)\n",
    "        break\n",
    "count = 0\n",
    "for s in lemmatized_sentences:\n",
    "    count += s.count(search_word)\n",
    "print(count)"
   ]
  },
  {
   "cell_type": "code",
   "execution_count": 31,
   "id": "892f52c4",
   "metadata": {},
   "outputs": [
    {
     "name": "stdout",
     "output_type": "stream",
     "text": [
      "woman\n",
      "women\n",
      "men\n"
     ]
    }
   ],
   "source": [
    "# 提取词干 暂时不做\n",
    "from nltk import PorterStemmer\n",
    "stemmer = PorterStemmer()\n",
    "print(lemmatizer.lemmatize('women','n'))\n",
    "print(stemmer.stem('women'))\n",
    "print(lemmatizer.lemmatize('men','n'))"
   ]
  },
  {
   "cell_type": "code",
   "execution_count": 23,
   "id": "1e9420cf",
   "metadata": {},
   "outputs": [],
   "source": [
    "# 词袋\n",
    "# from gensim import corpora\n",
    "# Dictionary = corpora.Dictionary(lemmatized_sentences)\n",
    "# sentence_bows = [Dictionary.doc2bow(s) for s in lemmatized_sentences]\n",
    "# sentence_bows[110:120]"
   ]
  },
  {
   "cell_type": "code",
   "execution_count": 32,
   "id": "3db1fe0c",
   "metadata": {
    "scrolled": true
   },
   "outputs": [
    {
     "name": "stdout",
     "output_type": "stream",
     "text": [
      "17524 17524\n",
      "56\n"
     ]
    }
   ],
   "source": [
    "# inferno_cleaned = \"\"\n",
    "# n_words = 0\n",
    "# for s in lemmatized_sentences:\n",
    "#     inferno_cleaned += ' '.join(s)+' '\n",
    "#     n_words += len(s)\n",
    "    \n",
    "# books = [s.split(' ') for s in theAeneid_cleaned.split('book')[1:]]\n",
    "# theAeneid_cleaned = theAeneid_cleaned.split(' ')\n",
    "\n",
    "# print(n_words, len(theAeneid_cleaned))\n",
    "# len(books)\n",
    "\n",
    "# inferno = \"\"\n",
    "# n_words = 0\n",
    "# for s in lemmatized_sentences:\n",
    "#     inferno += ' '.join(s)+' '\n",
    "#     n_words += len(s)\n",
    "# print(n_words, len(inferno))\n",
    "\n",
    "purgatorio = []\n",
    "n_words = 0\n",
    "for s in lemmatized_sentences:\n",
    "    purgatorio += s\n",
    "    n_words += len(s)\n",
    "print(n_words, len(purgatorio))\n",
    "search_word = 'go'\n",
    "print(purgatorio.count(search_word))"
   ]
  },
  {
   "cell_type": "code",
   "execution_count": 33,
   "id": "a0d08fe9",
   "metadata": {},
   "outputs": [
    {
     "name": "stdout",
     "output_type": "stream",
     "text": [
      "0\n"
     ]
    }
   ],
   "source": [
    "search_word = '”'\n",
    "print(purgatorio.count(search_word))\n",
    "# inferno[2000:2200]"
   ]
  },
  {
   "cell_type": "code",
   "execution_count": 40,
   "id": "434629d5",
   "metadata": {},
   "outputs": [
    {
     "name": "stdout",
     "output_type": "stream",
     "text": [
      "[('see', 206), ('us', 170), ('say', 159), ('eye', 127), ('make', 119), ('would', 115), ('move', 99), ('come', 97), ('turn', 94), ('like', 87), ('may', 86), ('know', 83), ('seem', 81), ('saw', 79), ('love', 78), ('leave', 77), ('soul', 77), ('good', 68), ('within', 67), ('first', 64), ('time', 64)]\n"
     ]
    }
   ],
   "source": [
    "# 统计词频\n",
    "from nltk.probability import FreqDist\n",
    "fd = FreqDist(purgatorio)\n",
    "print(fd.most_common(21))"
   ]
  },
  {
   "cell_type": "code",
   "execution_count": 21,
   "id": "c5a9c2f3",
   "metadata": {},
   "outputs": [],
   "source": [
    "# 分章节词频统计\n",
    "# for i,b in enumerate(books):\n",
    "#     fdist = FreqDist(b)\n",
    "#     tops=fdist.most_common(10)\n",
    "#     print(f\"BOOK {i+1}:{tops}\")"
   ]
  },
  {
   "cell_type": "code",
   "execution_count": 42,
   "id": "6ac7653b",
   "metadata": {},
   "outputs": [
    {
     "data": {
      "text/plain": [
       "Text(0.5, 1.0, 'Top 20 Most Frequent Words in the Purgatorio')"
      ]
     },
     "execution_count": 42,
     "metadata": {},
     "output_type": "execute_result"
    },
    {
     "data": {
      "image/png": "[encoded data removed]",
      "text/plain": [
       "<Figure size 1120x560 with 1 Axes>"
      ]
     },
     "metadata": {
      "needs_background": "light"
     },
     "output_type": "display_data"
    }
   ],
   "source": [
    "import numpy as np\n",
    "import matplotlib.pyplot as plt\n",
    "\n",
    "datas = np.array([('see', 285), ('us', 170), ('say', 159), ('eye', 127), ('make', 119), ('would', 115), ('move', 99),\n",
    "                  ('come', 97), ('turn', 94), ('like', 87), ('may', 86), ('know', 83), ('seem', 81), \n",
    "                  ('love', 78), ('leave', 77), ('soul', 77), ('good', 68), ('within', 67), ('first', 64), ('time', 64)])\n",
    "x, y = datas[:,0], datas[:,1].astype(np.int64)\n",
    "\n",
    "fig, ax = plt.subplots(figsize=(14, 7),dpi=80)\n",
    "plt.ylim(50,300)\n",
    "ax.bar(x=x, height=y, width=0.8,  # 柱子宽度，默认0.8，两根柱子中心的距离默认为1.0\n",
    "    align=\"center\",  # 柱子的对齐方式，'center' or 'edge'\n",
    "    color=\"grey\",  # 柱子颜色\n",
    "   # edgecolor=\"red\",  # 柱子边框的颜色\n",
    "    linewidth=2.0  )\n",
    "ax.set_title(\"Top 20 Most Frequent Words in the Purgatorio\", fontsize=18)"
   ]
  },
  {
   "cell_type": "code",
   "execution_count": 75,
   "id": "c09f87f9",
   "metadata": {},
   "outputs": [
    {
     "data": {
      "text/plain": [
       "Text(0.5, 1.0, 'Top 10 Most Frequent Words in Book IV')"
      ]
     },
     "execution_count": 75,
     "metadata": {},
     "output_type": "execute_result"
    },
    {
     "data": {
      "image/png": "[encoded data removed]",
      "text/plain": [
       "<Figure size 800x400 with 1 Axes>"
      ]
     },
     "metadata": {
      "needs_background": "light"
     },
     "output_type": "display_data"
    }
   ],
   "source": [
    "import numpy as np\n",
    "import matplotlib.pyplot as plt\n",
    "\n",
    "datas = np.array([('come', 28), ('take', 27), ('go', 26), ('God', 23), ('Dido', 22), \n",
    "                  ('give', 20), ('love', 20), ('way', 20), ('sister', 19), ('away', 18)])\n",
    "x, y = datas[:,0], datas[:,1].astype(np.int64)\n",
    "\n",
    "fig, ax = plt.subplots(figsize=(10, 5),dpi=80)\n",
    "plt.ylim(14,30)\n",
    "ax.bar(x=x, height=y, width=0.6,  # 柱子宽度，默认0.8，两根柱子中心的距离默认为1.0\n",
    "    align=\"center\",  # 柱子的对齐方式，'center' or 'edge'\n",
    "    color=\"grey\",  # 柱子颜色\n",
    "   # edgecolor=\"red\",  # 柱子边框的颜色\n",
    "    linewidth=2.0  )\n",
    "ax.set_title(\"Top 10 Most Frequent Words in Book IV\", fontsize=15)"
   ]
  },
  {
   "cell_type": "code",
   "execution_count": 77,
   "id": "ab5b1720",
   "metadata": {},
   "outputs": [
    {
     "data": {
      "text/plain": [
       "Text(0.5, 1.0, 'Top 10 Most Frequent Words in Book XII')"
      ]
     },
     "execution_count": 77,
     "metadata": {},
     "output_type": "execute_result"
    },
    {
     "data": {
      "image/png": "[encoded data removed]",
      "text/plain": [
       "<Figure size 800x400 with 1 Axes>"
      ]
     },
     "metadata": {
      "needs_background": "light"
     },
     "output_type": "display_data"
    }
   ],
   "source": [
    "import numpy as np\n",
    "import matplotlib.pyplot as plt\n",
    "\n",
    "datas = np.array([('Turnus', 65), ('Aeneas', 44), ('hand', 41), ('come', 39), ('go', 29), \n",
    "                  ('let', 28), ('make', 28), ('spear', 28), ('men', 26), ('Trojan', 26)])\n",
    "x, y = datas[:,0], datas[:,1].astype(np.int64)\n",
    "\n",
    "fig, ax = plt.subplots(figsize=(10, 5),dpi=80)\n",
    "plt.ylim(20,70)\n",
    "ax.bar(x=x, height=y, width=0.6,  # 柱子宽度，默认0.8，两根柱子中心的距离默认为1.0\n",
    "    align=\"center\",  # 柱子的对齐方式，'center' or 'edge'\n",
    "    color=\"grey\",  # 柱子颜色\n",
    "   # edgecolor=\"red\",  # 柱子边框的颜色\n",
    "    linewidth=2.0  )\n",
    "ax.set_title(\"Top 10 Most Frequent Words in Book XII\", fontsize=15)"
   ]
  },
  {
   "cell_type": "code",
   "execution_count": 22,
   "id": "4c07f877",
   "metadata": {},
   "outputs": [
    {
     "data": {
      "text/plain": [
       "Text(0.5, 1.0, 'Top 20 Most Frequent Words in the Aeneid')"
      ]
     },
     "execution_count": 22,
     "metadata": {},
     "output_type": "execute_result"
    },
    {
     "data": {
      "image/png": "[encoded data removed]",
      "text/plain": [
       "<Figure size 864x432 with 1 Axes>"
      ]
     },
     "metadata": {
      "needs_background": "light"
     },
     "output_type": "display_data"
    }
   ],
   "source": [
    "import numpy as np\n",
    "import matplotlib.pyplot as plt\n",
    "x = [\"come\", \"take\", \"make\", \"Aeneas\", \"go\", \"men\", \"God\", \"great\",\"hand\", \"give\", \"father\", \"sea\", \"man\", \"see\", \"Trojan\", \"war\",\"call\",\"say\",\"arm\",\"high\"]\n",
    "y = [430, 364, 316, 297, 283, 280, 262, 262, 255, 249, 241, 237, 222, 207, 199, 196, 195, 194, 193,189]\n",
    "\n",
    "# 柱状图和散点图不同，散点图的(x,y)均为数值变量\n",
    "# 柱状图的x轴显示分类变量，有两种处理方式\n",
    "# 方式1：自己创建x轴坐标，并提供对应的标签\n",
    "# 方式2：让Matplotlib自动完成映射\n",
    "\n",
    "# 方式1\n",
    "# xticks = np.arange(len(x))  # 每根柱子的x轴坐标\n",
    "# xlabels = x  # 每根柱子的标签\n",
    "# fig, ax = plt.subplots(figsize=(10, 7))\n",
    "# ax.bar(x=xticks, height=y, tick_label=xlabels)\n",
    "\n",
    "# 方式2（推荐）\n",
    "fig, ax = plt.subplots(figsize=(12, 6))\n",
    "ax.bar(x=x, height=y, width=0.8,  # 柱子宽度，默认0.8，两根柱子中心的距离默认为1.0\n",
    "    align=\"center\",  # 柱子的对齐方式，'center' or 'edge'\n",
    "    color=\"grey\",  # 柱子颜色\n",
    "   # edgecolor=\"red\",  # 柱子边框的颜色\n",
    "    linewidth=2.0  )\n",
    "ax.set_title(\"Top 20 Most Frequent Words in the Aeneid\", fontsize=15)"
   ]
  },
  {
   "cell_type": "code",
   "execution_count": 18,
   "id": "ac7de65f",
   "metadata": {},
   "outputs": [
    {
     "data": {
      "text/plain": [
       "Text(0.5, 1.0, 'Top 10 Most Frequent Words in Book XII')"
      ]
     },
     "execution_count": 18,
     "metadata": {},
     "output_type": "execute_result"
    },
    {
     "data": {
      "image/png": "[encoded data removed]",
      "text/plain": [
       "<Figure size 576x288 with 1 Axes>"
      ]
     },
     "metadata": {
      "needs_background": "light"
     },
     "output_type": "display_data"
    }
   ],
   "source": [
    "import numpy as np\n",
    "import matplotlib.pyplot as plt\n",
    "x = [\"Turnus\", \"Aeneas\", \"hand\", \"come\", \"go\", \"let\", \"make\", \"spear\", \"men\", \"Trojan\"]\n",
    "y = [28, 27, 26, 23, 22, 20, 20, 20, 19, 18]\n",
    "\n",
    "# 柱状图和散点图不同，散点图的(x,y)均为数值变量\n",
    "# 柱状图的x轴显示分类变量，有两种处理方式\n",
    "# 方式1：自己创建x轴坐标，并提供对应的标签\n",
    "# 方式2：让Matplotlib自动完成映射\n",
    "\n",
    "# 方式1\n",
    "# xticks = np.arange(len(x))  # 每根柱子的x轴坐标\n",
    "# xlabels = x  # 每根柱子的标签\n",
    "# fig, ax = plt.subplots(figsize=(8, 7))\n",
    "# ax.bar(x=xticks, height=y, tick_label=xlabels)\n",
    "\n",
    "# 方式2（推荐）\n",
    "fig, ax = plt.subplots(figsize=(8, 4))\n",
    "ax.bar(x=x, height=y, width=0.6,  # 柱子宽度，默认0.8，两根柱子中心的距离默认为1.0\n",
    "    align=\"center\",  # 柱子的对齐方式，'center' or 'edge'\n",
    "    color=\"grey\",  # 柱子颜色\n",
    "    #edgecolor=\"red\",  # 柱子边框的颜色\n",
    "    linewidth=2.0  )\n"
   ]
  },
  {
   "cell_type": "code",
   "execution_count": null,
   "id": "96a7b619",
   "metadata": {},
   "outputs": [],
   "source": []
  }
 ],
 "metadata": {
  "kernelspec": {
   "display_name": "Python 3",
   "language": "python",
   "name": "python3"
  },
  "language_info": {
   "codemirror_mode": {
    "name": "ipython",
    "version": 3
   },
   "file_extension": ".py",
   "mimetype": "text/x-python",
   "name": "python",
   "nbconvert_exporter": "python",
   "pygments_lexer": "ipython3",
   "version": "3.8.8"
  }
 },
 "nbformat": 4,
 "nbformat_minor": 5
}
